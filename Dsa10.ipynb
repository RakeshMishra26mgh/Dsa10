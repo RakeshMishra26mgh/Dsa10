{
  "nbformat": 4,
  "nbformat_minor": 0,
  "metadata": {
    "colab": {
      "provenance": [],
      "authorship_tag": "ABX9TyNmeINq4CRgxiKhZrMGrkuO",
      "include_colab_link": true
    },
    "kernelspec": {
      "name": "python3",
      "display_name": "Python 3"
    },
    "language_info": {
      "name": "python"
    }
  },
  "cells": [
    {
      "cell_type": "markdown",
      "metadata": {
        "id": "view-in-github",
        "colab_type": "text"
      },
      "source": [
        "<a href=\"https://colab.research.google.com/github/RakeshMishra26mgh/Dsa10/blob/main/Dsa10.ipynb\" target=\"_parent\"><img src=\"https://colab.research.google.com/assets/colab-badge.svg\" alt=\"Open In Colab\"/></a>"
      ]
    },
    {
      "cell_type": "markdown",
      "source": [
        "Answer 1:-"
      ],
      "metadata": {
        "id": "RFPwXb6RZjUZ"
      }
    },
    {
      "cell_type": "code",
      "source": [
        "def is_power_of_three(n):\n",
        "  if n <= 0:\n",
        "    return False\n",
        "  while n > 1:\n",
        "    if n % 3 != 0:\n",
        "      return False\n",
        "    n = n // 3\n",
        "  return True\n",
        "\n",
        "print(\"Please enter an integer:\")\n",
        "try:\n",
        "  n = int(input())\n",
        "except ValueError:\n",
        "  print(\"Invalid input. Please enter an integer.\")\n",
        "  \n",
        "result = is_power_of_three(n)\n",
        "print(f\"{n} is a power of three: {result}\")\n"
      ],
      "metadata": {
        "id": "VnkP3749Zl4x"
      },
      "execution_count": null,
      "outputs": []
    },
    {
      "cell_type": "markdown",
      "source": [
        "Answer 2:-"
      ],
      "metadata": {
        "id": "BSvHyn_BZmER"
      }
    },
    {
      "cell_type": "code",
      "source": [
        "def last_remaining(n):\n",
        "  arr = list(range(1, n + 1))\n",
        "  left = True\n",
        "  while len(arr) > 1:\n",
        "    if left:\n",
        "      arr = arr[1::2]\n",
        "    else:\n",
        "      arr = arr[-2::-2]\n",
        "    left = not left\n",
        "  return arr[0]\n",
        "\n",
        "print(\"Please enter a positive integer:\")\n",
        "try:\n",
        "  n = int(input())\n",
        "except ValueError:\n",
        "  print(\"Invalid input. Please enter a positive integer.\")\n",
        "  \n",
        "if n <= 0:\n",
        "  print(\"Invalid input. Please enter a positive integer.\")\n",
        "result = last_remaining(n)\n",
        "print(f\"The last remaining number in [1, {n}] is: {result}\")\n"
      ],
      "metadata": {
        "id": "tZh_9mCCZpMJ"
      },
      "execution_count": null,
      "outputs": []
    },
    {
      "cell_type": "markdown",
      "source": [
        "Answer 3:-"
      ],
      "metadata": {
        "id": "6pw3B9h-ZphR"
      }
    },
    {
      "cell_type": "code",
      "source": [
        "def print_subsets(set, index, subset):\n",
        "  if index == len(set):\n",
        "    print(subset)\n",
        "    return\n",
        "  print_subsets(set, index + 1, subset + set[index])\n",
        "  print_subsets(set, index + 1, subset)\n",
        "\n",
        "print(\"Please enter a string:\")\n",
        "set = input()\n",
        "if not set:\n",
        "  print(\"Invalid input. Please enter a non-empty string.\")\n",
        "print_subsets(set, 0, \"\")\n"
      ],
      "metadata": {
        "id": "xGUCluRIZr5J"
      },
      "execution_count": null,
      "outputs": []
    },
    {
      "cell_type": "markdown",
      "source": [
        "Answer 4:-"
      ],
      "metadata": {
        "id": "TlfgQAO8ZsLY"
      }
    },
    {
      "cell_type": "code",
      "source": [
        "def string_length(string):\n",
        "  if not string:\n",
        "    return 0\n",
        "  return 1 + string_length(string[1:])\n",
        "\n",
        "string = input(\"Please enter a string:\")\n",
        "result = string_length(string)\n",
        "print(f\"The length of '{string}' is: {result}\")\n"
      ],
      "metadata": {
        "id": "ToT1zWL4ZuAp"
      },
      "execution_count": null,
      "outputs": []
    },
    {
      "cell_type": "markdown",
      "source": [
        "Answer 5:-"
      ],
      "metadata": {
        "id": "aQxstXT4Zud6"
      }
    },
    {
      "cell_type": "code",
      "source": [
        "def count_substrings(string):\n",
        "  count = 0\n",
        "  for i in range(len(string)):\n",
        "    char = string[i]\n",
        "    for j in range(i, len(string)):\n",
        "      if char == string[j]:\n",
        "        count += 1\n",
        "  return count\n",
        "\n",
        "print(\"Please enter a string:\")\n",
        "string = input()\n",
        "if not string:\n",
        "  print(\"Invalid input. Please enter a non-empty string.\")\n",
        "\n",
        "result = count_substrings(string)\n",
        "print(f\"The number of substrings starting and ending with same character in '{string}' is: {result}\")\n"
      ],
      "metadata": {
        "id": "2fCVx2I3Zwyx"
      },
      "execution_count": null,
      "outputs": []
    },
    {
      "cell_type": "markdown",
      "source": [
        "Answer 6:-"
      ],
      "metadata": {
        "id": "0tHdg96_ZxDh"
      }
    },
    {
      "cell_type": "code",
      "source": [
        "def tower_of_hanoi(n, from_rod, to_rod, aux_rod):\n",
        "  if n == 0:\n",
        "    return 0\n",
        "  count = tower_of_hanoi(n-1, from_rod, aux_rod, to_rod)\n",
        "  print(f\"move disk {n} from rod {from_rod} to rod {to_rod}\")\n",
        "  count += 1\n",
        "  count += tower_of_hanoi(n-1, aux_rod, to_rod, from_rod)\n",
        "  return count\n",
        "\n",
        "print(\"Please enter a positive integer for the number of discs:\")\n",
        "try:\n",
        "  n = int(input())\n",
        "except ValueError:\n",
        "  print(\"Invalid input. Please enter a positive integer.\")\n",
        "if n <= 0:\n",
        "  print(\"Invalid input. Please enter a positive integer.\")\n",
        "  sys.exit()\n",
        "moves = tower_of_hanoi(n, 1, 3, 2)\n",
        "print(f\"The total number of moves for {n} discs is: {moves}\")\n"
      ],
      "metadata": {
        "id": "OyuAoDSuivDJ"
      },
      "execution_count": null,
      "outputs": []
    },
    {
      "cell_type": "markdown",
      "source": [
        "Answer 7:-"
      ],
      "metadata": {
        "id": "YkNpwWneZzKB"
      }
    },
    {
      "cell_type": "code",
      "source": [
        "def print_permutations(string, prefix=\"\", sep=\" \"):\n",
        "  if len(string) == 0:\n",
        "    print(prefix, end=sep)\n",
        "  else:\n",
        "    for i in range(len(string)):\n",
        "      new_prefix = prefix + string[i]\n",
        "      new_string = string[:i] + string[i+1:]\n",
        "      print_permutations(new_string, new_prefix, sep)\n",
        "\n",
        "str = input(\"Enter a string: \")\n",
        "\n",
        "if len(str) == 0:\n",
        "  raise ValueError(\"The input string cannot be empty\")\n",
        "if not str.isalpha():\n",
        "  raise ValueError(\"The input string can only contain alphabets\")\n",
        "\n",
        "sep = input(\"Enter a separator: \")\n",
        "\n",
        "if len(sep) == 0:\n",
        "  print(\"The separator cannot be empty, using a space instead\")\n",
        "  sep = \" \"\n",
        "if sep in str:\n",
        "  print(\"The separator cannot be the same as any character in the input string, using a comma instead\")\n",
        "  sep = \",\"\n",
        "\n",
        "print_permutations(str, sep=sep)\n"
      ],
      "metadata": {
        "id": "q7knX_oCZ1Ip"
      },
      "execution_count": null,
      "outputs": []
    },
    {
      "cell_type": "markdown",
      "source": [
        "Answer 8:-"
      ],
      "metadata": {
        "id": "PC4Sq56KZ1QC"
      }
    },
    {
      "cell_type": "code",
      "source": [
        "def count_consonants(string):\n",
        "  count = 0\n",
        "  string = string.lower()\n",
        "  for char in string:\n",
        "    if char in \"aeiou \":\n",
        "      continue\n",
        "    else:\n",
        "      count += 1\n",
        "  return count\n",
        "\n",
        "string = input(\"Enter a string: \")\n",
        "print(\"The number of consonants is:\", count_consonants(string))\n"
      ],
      "metadata": {
        "id": "1oJrBgC9Z39j"
      },
      "execution_count": null,
      "outputs": []
    }
  ]
}